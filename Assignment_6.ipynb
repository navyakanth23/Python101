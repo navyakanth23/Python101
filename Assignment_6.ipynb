{
  "nbformat": 4,
  "nbformat_minor": 0,
  "metadata": {
    "colab": {
      "provenance": [],
      "authorship_tag": "ABX9TyMw2efVQUpGEzo4S3Pt/f2M",
      "include_colab_link": true
    },
    "kernelspec": {
      "name": "python3",
      "display_name": "Python 3"
    },
    "language_info": {
      "name": "python"
    }
  },
  "cells": [
    {
      "cell_type": "markdown",
      "metadata": {
        "id": "view-in-github",
        "colab_type": "text"
      },
      "source": [
        "<a href=\"https://colab.research.google.com/github/navyakanth23/Python101/blob/main/Assignment_6.ipynb\" target=\"_parent\"><img src=\"https://colab.research.google.com/assets/colab-badge.svg\" alt=\"Open In Colab\"/></a>"
      ]
    },
    {
      "cell_type": "markdown",
      "source": [
        "#Distance Traveled\n",
        "The distance a vehicle travels can be calculated as follows:\n",
        "distan⁡ce = speed × time\n",
        "For example, if a train travels 40 miles per hour for three hours, the distance traveled is 120\n",
        "miles. \n",
        "\n",
        "Write a program that asks the user for the speed of a vehicle (in miles per hour) and the\n",
        "number of hours it has traveled. It should then use a loop to display the distance the vehicle has\n",
        "traveled for each hour of that time period. \n",
        "\n",
        "Here is an example of the desired output:\n",
        "What is the speed of the vehicle in mph? 40\n",
        "How many hours has it traveled? 3"
      ],
      "metadata": {
        "id": "U0sf9EcL0a9q"
      }
    },
    {
      "cell_type": "code",
      "execution_count": 5,
      "metadata": {
        "colab": {
          "base_uri": "https://localhost:8080/"
        },
        "id": "Nq9GLElp0McD",
        "outputId": "8b0fd6ec-122b-4b69-fe1f-b069fce3fd27"
      },
      "outputs": [
        {
          "output_type": "stream",
          "name": "stdout",
          "text": [
            "Distance Traveled\n",
            "What was the speed of the vehicle?60\n",
            "How many hours did you traveled?4\n",
            "Distance traveled in 1 hour = 60 miles\n",
            "Distance traveled in 2 hour = 120 miles\n",
            "Distance traveled in 3 hour = 180 miles\n",
            "Distance traveled in 4 hour = 240 miles\n"
          ]
        }
      ],
      "source": [
        "print(\"Distance Traveled\")\n",
        "speed = int(input(\"What was the speed of the vehicle?\"))\n",
        "time = int(input(\"How many hours did you traveled?\"))\n",
        "for i in range (1,time+1):\n",
        "  #  distance = speed * time\n",
        "   print(\"Distance traveled in\", i, \"hour =\", speed * i, \"miles\")"
      ]
    },
    {
      "cell_type": "markdown",
      "source": [
        "#Celsius temperatures\n",
        "Write a program that displays a table of the Celsius temperatures 0 through 20 and their Fahrenheit equivalents.\n",
        "\n",
        "The formula for converting a temperature from Celsius to Fahrenheit is\n",
        "\n",
        "F=95C+32\n",
        "\n",
        "where F is the Fahrenheit temperature, and C is the Celsius temperature.\n",
        "\n",
        "Your program must use a loop to display the table."
      ],
      "metadata": {
        "id": "5qpE4zqO5ltr"
      }
    },
    {
      "cell_type": "code",
      "source": [
        "print(\"Celsius              Fahrenheit\")\n",
        "for i in range (0,25):\n",
        "  print(i, \"C                 \", (9/5 * i) + 32, \"F\")"
      ],
      "metadata": {
        "colab": {
          "base_uri": "https://localhost:8080/"
        },
        "id": "pm8SzPgJ5yGL",
        "outputId": "420fdeb6-c024-4f2e-ef90-9e511cb69516"
      },
      "execution_count": 8,
      "outputs": [
        {
          "output_type": "stream",
          "name": "stdout",
          "text": [
            "Celsius              Fahrenheit\n",
            "0 C                  32.0 F\n",
            "1 C                  33.8 F\n",
            "2 C                  35.6 F\n",
            "3 C                  37.4 F\n",
            "4 C                  39.2 F\n",
            "5 C                  41.0 F\n",
            "6 C                  42.8 F\n",
            "7 C                  44.6 F\n",
            "8 C                  46.4 F\n",
            "9 C                  48.2 F\n",
            "10 C                  50.0 F\n",
            "11 C                  51.8 F\n",
            "12 C                  53.6 F\n",
            "13 C                  55.400000000000006 F\n",
            "14 C                  57.2 F\n",
            "15 C                  59.0 F\n",
            "16 C                  60.8 F\n",
            "17 C                  62.6 F\n",
            "18 C                  64.4 F\n",
            "19 C                  66.2 F\n",
            "20 C                  68.0 F\n",
            "21 C                  69.80000000000001 F\n",
            "22 C                  71.6 F\n",
            "23 C                  73.4 F\n",
            "24 C                  75.2 F\n"
          ]
        }
      ]
    }
  ]
}