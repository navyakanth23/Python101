{
  "nbformat": 4,
  "nbformat_minor": 0,
  "metadata": {
    "colab": {
      "provenance": [],
      "authorship_tag": "ABX9TyMgualR08RN8sdPhz8yyYCF",
      "include_colab_link": true
    },
    "kernelspec": {
      "name": "python3",
      "display_name": "Python 3"
    },
    "language_info": {
      "name": "python"
    }
  },
  "cells": [
    {
      "cell_type": "markdown",
      "metadata": {
        "id": "view-in-github",
        "colab_type": "text"
      },
      "source": [
        "<a href=\"https://colab.research.google.com/github/navyakanth23/Python101/blob/main/Assignment_2.ipynb\" target=\"_parent\"><img src=\"https://colab.research.google.com/assets/colab-badge.svg\" alt=\"Open In Colab\"/></a>"
      ]
    },
    {
      "cell_type": "markdown",
      "source": [
        "# Celsius to Fahrenheit Temperature Converter\n",
        "Write a program that converts Celsius temperatures to Fahrenheit \n",
        "temperatures. The formula is as follows:F=(9/5)*C + 32.\n",
        "The program should ask the user to enter a temperature in Celsius, then \n",
        "display the temperature converted to Fahrenheit."
      ],
      "metadata": {
        "id": "YptYBKbdN3HB"
      }
    },
    {
      "cell_type": "code",
      "execution_count": 3,
      "metadata": {
        "colab": {
          "base_uri": "https://localhost:8080/"
        },
        "id": "LzFXjsz4NeWd",
        "outputId": "39fd922d-3023-4be9-aba0-36c0e5c5df1e"
      },
      "outputs": [
        {
          "output_type": "stream",
          "name": "stdout",
          "text": [
            "Enter the temperature in celsius: -9\n",
            "The temperature in Fahrenheit 15.8\n"
          ]
        }
      ],
      "source": [
        "Celsius = input(\"Enter the temperature in celsius: \")\n",
        "Celsius = float(Celsius)\n",
        "\n",
        "Fahrenheit = ((9/5)*Celsius + 32)\n",
        "print(\"The temperature in Fahrenheit\", Fahrenheit)"
      ]
    },
    {
      "cell_type": "markdown",
      "source": [
        "# Ingredient Adjuster\n",
        "\tA cookie recipe calls for the following ingredients:\n",
        "- 1.5 cups of sugar\n",
        "- 1 cup of butter\n",
        "- 2.75 cups of flour\n",
        "The recipe produces 48 cookies with this amount of the ingredients.   \n",
        "Write a program that asks the user how many cookies he or she wants to make, then displays the number of cups of each ingredient needed for the specified number of cookies."
      ],
      "metadata": {
        "id": "stuZUbInQo2P"
      }
    },
    {
      "cell_type": "code",
      "source": [
        "Cookies = input(\"enter number of cookies you want: \")\n",
        "Cookies = int(Cookies)\n",
        "\n",
        "Sugar = (1.5/48) * Cookies\n",
        "Butter = (1/48) * Cookies\n",
        "Flour = (2.75/48) * Cookies\n",
        "\n",
        "print(\"These are the ingredients you need for the recipe.\")\n",
        "print(Sugar, \"cups of sugar.\")\n",
        "print(Butter, \"cups of butter.\")\n",
        "print(Flour, \"cups of flour.\")"
      ],
      "metadata": {
        "colab": {
          "base_uri": "https://localhost:8080/"
        },
        "id": "-52Acye7QTKk",
        "outputId": "9aa18e35-8eb6-4584-b60a-947909a2d6d1"
      },
      "execution_count": 9,
      "outputs": [
        {
          "output_type": "stream",
          "name": "stdout",
          "text": [
            "enter number of cookies you want: 65\n",
            "These are the ingredients you need for the recipe.\n",
            "2.03125 cups of sugar.\n",
            "1.3541666666666665 cups of butter.\n",
            "3.723958333333333 cups of flour.\n"
          ]
        }
      ]
    },
    {
      "cell_type": "markdown",
      "source": [
        "# Miles-per-Gallon\n",
        "A car's miles-per-gallon (MPG) can be calculated with the following \n",
        "formula: MPG = Miles driven ÷ Gallons of gas used.\n",
        "\n",
        "Write a program that asks the user for the number of miles driven and \n",
        "the gallons of gas used. It should calculate the car's MPG and display \n",
        "the result."
      ],
      "metadata": {
        "id": "haMDOXqmVan5"
      }
    },
    {
      "cell_type": "code",
      "source": [
        "Miles_driven = input(\"Enter number of miles driven?: \")\n",
        "Miles_driven = int(Miles_driven)\n",
        "Gas_used = input(\"How many gallons of gas used?: \")\n",
        "Gas_used = float(Gas_used)\n",
        "\n",
        "MPG = (Miles_driven/Gas_used)\n",
        "print(\"Your vehicle mileage is\", MPG, \"miles per gallon\")"
      ],
      "metadata": {
        "colab": {
          "base_uri": "https://localhost:8080/"
        },
        "id": "Ys2M2c4dVVs7",
        "outputId": "68851fb3-52a5-41c1-da03-c6e0d53df292"
      },
      "execution_count": 14,
      "outputs": [
        {
          "output_type": "stream",
          "name": "stdout",
          "text": [
            "Enter number of miles driven?: 30\n",
            "How many gallons of gas used?: 15\n",
            "Your vehicle mileage is 2.0 miles per gallon\n"
          ]
        }
      ]
    }
  ]
}