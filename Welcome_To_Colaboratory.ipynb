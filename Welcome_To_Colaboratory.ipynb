{
  "cells": [
    {
      "cell_type": "markdown",
      "metadata": {
        "id": "view-in-github",
        "colab_type": "text"
      },
      "source": [
        "<a href=\"https://colab.research.google.com/github/navyakanth23/Python101/blob/main/Welcome_To_Colaboratory.ipynb\" target=\"_parent\"><img src=\"https://colab.research.google.com/assets/colab-badge.svg\" alt=\"Open In Colab\"/></a>"
      ]
    },
    {
      "cell_type": "markdown",
      "source": [
        "#Bug Collector Code"
      ],
      "metadata": {
        "id": "2UsaZ7BjXk50"
      }
    },
    {
      "cell_type": "code",
      "source": [
        "day_count = 1\n",
        "total_bugs = 0\n",
        "while (day_count <=5):\n",
        "   bug_count = input(\"Enter the bugs you collected on day\"+ str(day_count)+\":\")\n",
        "   bug_count = int(bug_count)\n",
        "   total_bugs = total_bugs + bug_count\n",
        "   day_count = day_count + 1\n",
        "print(\"Total number of bugs you collected:\" , total_bugs)"
      ],
      "metadata": {
        "id": "AFtgqlISWIVC"
      },
      "execution_count": null,
      "outputs": []
    }
  ],
  "metadata": {
    "colab": {
      "name": "Welcome To Colaboratory",
      "toc_visible": true,
      "provenance": [],
      "include_colab_link": true
    },
    "kernelspec": {
      "display_name": "Python 3",
      "name": "python3"
    }
  },
  "nbformat": 4,
  "nbformat_minor": 0
}