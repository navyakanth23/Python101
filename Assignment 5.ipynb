{
  "cells": [
    {
      "cell_type": "markdown",
      "metadata": {
        "id": "view-in-github",
        "colab_type": "text"
      },
      "source": [
        "<a href=\"https://colab.research.google.com/github/navyakanth23/Python101/blob/main/Assignment%205.ipynb\" target=\"_parent\"><img src=\"https://colab.research.google.com/assets/colab-badge.svg\" alt=\"Open In Colab\"/></a>"
      ]
    },
    {
      "cell_type": "markdown",
      "source": [
        "#Break Statement"
      ],
      "metadata": {
        "id": "mizd7R7Z17--"
      }
    },
    {
      "cell_type": "code",
      "source": [
        "import random\n",
        "loop_counter = 1\n",
        "while (loop_counter <= 10):\n",
        "  random_x = random.randint(1,23)\n",
        "  if random_x == 13:\n",
        "    print(\"13 is the number. I am stopping that number.\")\n",
        "    break\n",
        "  print(loop_counter, \"Random number is:\", random_x)\n",
        "  loop_counter = loop_counter + 1"
      ],
      "metadata": {
        "id": "AOlZCEFb2AS2",
        "outputId": "dd7822d3-b616-4d8a-84f3-f4480bab7e6c",
        "colab": {
          "base_uri": "https://localhost:8080/"
        }
      },
      "execution_count": 6,
      "outputs": [
        {
          "output_type": "stream",
          "name": "stdout",
          "text": [
            "1 Random number is: 1\n",
            "2 Random number is: 21\n",
            "3 Random number is: 12\n",
            "4 Random number is: 19\n",
            "5 Random number is: 4\n",
            "6 Random number is: 20\n",
            "7 Random number is: 6\n",
            "8 Random number is: 12\n",
            "13 is the number. I am stopping that number.\n"
          ]
        }
      ]
    },
    {
      "cell_type": "markdown",
      "source": [
        "# Using while true and break together"
      ],
      "metadata": {
        "id": "T4j25me03_SP"
      }
    },
    {
      "cell_type": "code",
      "source": [
        "number_of_students = 0\n",
        "total_age = 0\n",
        "while True:\n",
        "  age = input(\"Enter the age? Must be a positive number; or enter 0 to end\" )\n",
        "  age = int(age)\n",
        "  if (age == 0):\n",
        "    break\n",
        "  total_age = total_age + age\n",
        "  number_of_students = number_of_students + 1\n",
        "  average = total_age / number_of_students\n",
        "print(\"Number of students: \",number_of_students)\n",
        "print(\"Total age of students: \",total_age)\n",
        "print(\"Average age: \",average)"
      ],
      "metadata": {
        "id": "NFouGBYw3Y2U",
        "outputId": "43c0d12e-df13-4294-d446-7af3f90f7ed1",
        "colab": {
          "base_uri": "https://localhost:8080/"
        }
      },
      "execution_count": 16,
      "outputs": [
        {
          "output_type": "stream",
          "name": "stdout",
          "text": [
            "Enter the age? Must be a positive number; or enter 0 to end10\n",
            "Enter the age? Must be a positive number; or enter 0 to end20\n",
            "Enter the age? Must be a positive number; or enter 0 to end25\n",
            "Enter the age? Must be a positive number; or enter 0 to end0\n",
            "Number of students:  3\n",
            "Total age of students:  55\n",
            "Average age:  18.333333333333332\n"
          ]
        }
      ]
    },
    {
      "cell_type": "markdown",
      "source": [
        "\n",
        "#Using while loop with break"
      ],
      "metadata": {
        "id": "6DnkBIaw-Kv2"
      }
    },
    {
      "cell_type": "code",
      "source": [
        "budget = input(\"Enter the budget allocated for a month: \")\n",
        "budget = int(budget)\n",
        "total_price = 0\n",
        "item = 1\n",
        "while True:\n",
        "  price = (float(input(\"Enter amount for item purchased or 0 to exit: \")))\n",
        "  if(price == 0):\n",
        "     break\n",
        "  print(\"Item\",item,\"   \",price)\n",
        "  item = item + 1\n",
        "  total_price = total_price + price\n",
        "\n",
        "\n",
        "if (total_price < budget):\n",
        "    total_price = budget - total_price\n",
        "    print(\"You are under your budget by \", total_price)\n",
        "elif (total_price == budget):\n",
        "     total_price = budget - total_price\n",
        "     print(\"Great! you are within your budget.\")\n",
        "else:\n",
        "     total_price = budget - total_price\n",
        "     print(\" Your are over your budget by \", total_price)"
      ],
      "metadata": {
        "id": "vVYo5aJu-KW8",
        "outputId": "cc3559c1-3491-4015-cedc-b2d716f79e45",
        "colab": {
          "base_uri": "https://localhost:8080/"
        }
      },
      "execution_count": 8,
      "outputs": [
        {
          "output_type": "stream",
          "name": "stdout",
          "text": [
            "Enter the budget allocated for a month: 100\n",
            "Enter amount for item purchased or 0 to exit: 20\n",
            "Item 1     20.0\n",
            "Enter amount for item purchased or 0 to exit: 5\n",
            "Item 2     5.0\n",
            "Enter amount for item purchased or 0 to exit: 33\n",
            "Item 3     33.0\n",
            "Enter amount for item purchased or 0 to exit: 45\n",
            "Item 4     45.0\n",
            "Enter amount for item purchased or 0 to exit: 85\n",
            "Item 5     85.0\n",
            "Enter amount for item purchased or 0 to exit: 0\n",
            " Your are over your budget by  -88.0\n"
          ]
        }
      ]
    },
    {
      "cell_type": "markdown",
      "source": [
        "#Continue Statement"
      ],
      "metadata": {
        "id": "GGWX7j8yQamo"
      }
    },
    {
      "cell_type": "code",
      "source": [
        "import random\n",
        "loop_counter = 1\n",
        "while (loop_counter <= 10):\n",
        "  random_x = random.randint(1,23)\n",
        "  if ( random_x == 13):\n",
        "    print(\"13 is the random number but I am moving\")\n",
        "    continue\n",
        "  print(loop_counter, \"Random number:\", random_x)\n",
        "  loop_counter = loop_counter + 1"
      ],
      "metadata": {
        "id": "8zGGrW71Qd-q",
        "outputId": "5d78cbfc-5053-4c38-e6c6-46acd76367db",
        "colab": {
          "base_uri": "https://localhost:8080/"
        }
      },
      "execution_count": 18,
      "outputs": [
        {
          "output_type": "stream",
          "name": "stdout",
          "text": [
            "1 Random number: 20\n",
            "2 Random number: 8\n",
            "13 is the random number but I am moving\n",
            "3 Random number: 16\n",
            "4 Random number: 20\n",
            "5 Random number: 16\n",
            "6 Random number: 16\n",
            "7 Random number: 17\n",
            "8 Random number: 12\n",
            "9 Random number: 9\n",
            "10 Random number: 7\n"
          ]
        }
      ]
    }
  ],
  "metadata": {
    "colab": {
      "name": "Welcome To Colaboratory",
      "toc_visible": true,
      "provenance": [],
      "include_colab_link": true
    },
    "kernelspec": {
      "display_name": "Python 3",
      "name": "python3"
    }
  },
  "nbformat": 4,
  "nbformat_minor": 0
}