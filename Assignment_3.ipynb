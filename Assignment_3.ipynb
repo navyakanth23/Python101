{
  "nbformat": 4,
  "nbformat_minor": 0,
  "metadata": {
    "colab": {
      "provenance": [],
      "authorship_tag": "ABX9TyMRmEdoVfoo8bSR1f8MWiy4",
      "include_colab_link": true
    },
    "kernelspec": {
      "name": "python3",
      "display_name": "Python 3"
    },
    "language_info": {
      "name": "python"
    }
  },
  "cells": [
    {
      "cell_type": "markdown",
      "metadata": {
        "id": "view-in-github",
        "colab_type": "text"
      },
      "source": [
        "<a href=\"https://colab.research.google.com/github/navyakanth23/Python101/blob/main/Assignment_3.ipynb\" target=\"_parent\"><img src=\"https://colab.research.google.com/assets/colab-badge.svg\" alt=\"Open In Colab\"/></a>"
      ]
    },
    {
      "cell_type": "markdown",
      "source": [
        "###**Assignment** **3.1**###\n",
        "Using if, elif and else statements."
      ],
      "metadata": {
        "id": "HSdxz0HSUSac"
      }
    },
    {
      "cell_type": "code",
      "execution_count": null,
      "metadata": {
        "colab": {
          "base_uri": "https://localhost:8080/"
        },
        "id": "oP02-Nw4Rita",
        "outputId": "f2bda80b-3736-4093-f97e-1783fb1e9eb2"
      },
      "outputs": [
        {
          "output_type": "stream",
          "name": "stdout",
          "text": [
            "How many books did you purchased?8\n",
            "Great! You have earned 60 points.\n"
          ]
        }
      ],
      "source": [
        "books = input(\"How many books did you purchased?\")\n",
        "books = int(books)\n",
        "if books == 0:\n",
        "   print(\"Sorry! You have earned 0 points.\")\n",
        "elif books == 2:\n",
        "   print(\"You have earned 5 points.\")\n",
        "elif books == 4:\n",
        "   print(\"You have earned 15 points.\")\n",
        "elif books == 6:\n",
        "   print(\"You have earned 30 points.\") \n",
        "elif books >= 8:\n",
        "   print(\"Great! You have earned 60 points.\")\n",
        "else:\n",
        "     print(\"You have to purchase atleast one book to get a point.\")"
      ]
    }
  ]
}