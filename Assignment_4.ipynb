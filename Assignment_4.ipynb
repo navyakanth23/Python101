{
  "nbformat": 4,
  "nbformat_minor": 0,
  "metadata": {
    "colab": {
      "provenance": [],
      "authorship_tag": "ABX9TyM524Ys9oFb/Zr61j+Uzut/",
      "include_colab_link": true
    },
    "kernelspec": {
      "name": "python3",
      "display_name": "Python 3"
    },
    "language_info": {
      "name": "python"
    }
  },
  "cells": [
    {
      "cell_type": "markdown",
      "metadata": {
        "id": "view-in-github",
        "colab_type": "text"
      },
      "source": [
        "<a href=\"https://colab.research.google.com/github/navyakanth23/Python101/blob/main/Assignment_4.ipynb\" target=\"_parent\"><img src=\"https://colab.research.google.com/assets/colab-badge.svg\" alt=\"Open In Colab\"/></a>"
      ]
    },
    {
      "cell_type": "markdown",
      "source": [
        "### A bug collector collects bugs every day for five days. Write a program that keeps a running total of the number of bugs collected during the five days. The loop should ask for the number of bugs collected for each day, and when the loop is finished, the program should display the total number of bugs collected.\n",
        "\n"
      ],
      "metadata": {
        "id": "k3hA1rkiz1PU"
      }
    },
    {
      "cell_type": "code",
      "execution_count": 6,
      "metadata": {
        "id": "PH3b4FjplS6H",
        "colab": {
          "base_uri": "https://localhost:8080/"
        },
        "outputId": "a372b218-c8f6-4476-8f07-50ae2a968369"
      },
      "outputs": [
        {
          "output_type": "stream",
          "name": "stdout",
          "text": [
            "enter number of bugs collected on day 1:1\n",
            "enter number of bugs collected on day 2:2\n",
            "enter number of bugs collected on day 3:3\n",
            "enter number of bugs collected on day 4:5\n",
            "enter number of bugs collected on day 5:4\n",
            "Total number of bugs collected for 5 days:  15\n"
          ]
        }
      ],
      "source": [
        "day_count = 1\n",
        "total_bugs = 0\n",
        "while(day_count <= 5):\n",
        "     bug_count = input(\"enter number of bugs collected on day \" + str(day_count) + \":\")\n",
        "     bug_count = int(bug_count)\n",
        "     total_bugs = total_bugs + day_count\n",
        "     day_count = day_count + 1\n",
        "print(\"Total number of bugs collected for 5 days: \" ,total_bugs ) "
      ]
    },
    {
      "cell_type": "markdown",
      "source": [
        "\n",
        "Budget Analysis Write a program that asks the user to enter the amount that he or she has budgeted for a month. A loop should then prompt the user to enter each of his or her expenses for the month and keep a running total. When the loop finishes, the program should display the amount that the user is over or under budget"
      ],
      "metadata": {
        "id": "qzFGUZmLr99F"
      }
    },
    {
      "cell_type": "code",
      "source": [
        "print(\"Budget Analysis\")\n",
        "BudgetGoal = int(input(\"Enter the amount you have bugeted $ for a month.\"))\n",
        "print(\"Enter Expenses by type 1.Clothing 2.Food 3.Entertainment 4.Rent 5.Transport \")\n",
        "numberofbudgets=1\n",
        "totalexpense=0\n",
        "while(numberofbudgets<=5):\n",
        " EXPENSE =int(input(\"Budget number \" + str(numberofbudgets) + \"  \"))\n",
        " totalexpense=totalexpense+EXPENSE\n",
        " numberofbudgets=numberofbudgets+1\n",
        "if (totalexpense>BudgetGoal):\n",
        "  overexpense= totalexpense-BudgetGoal\n",
        "  print(\"you are over budget by \" + str(overexpense)+ \" $\")\n",
        "else:\n",
        "  print(\"You have reacheched your budgeted goal!\")\n"
      ],
      "metadata": {
        "colab": {
          "base_uri": "https://localhost:8080/"
        },
        "id": "NddVn59B8A6K",
        "outputId": "17b8f863-7c5e-4273-bf1d-c2f57c41d2c7"
      },
      "execution_count": 9,
      "outputs": [
        {
          "output_type": "stream",
          "name": "stdout",
          "text": [
            "Budget Analysis\n",
            "Enter the amount you have bugeted $ for a month.100\n",
            "Enter Expenses by type 1.Clothing 2.Food 3.Entertainment 4.Rent 5.Transport \n",
            "Budget number 1  10\n",
            "Budget number 2  50\n",
            "Budget number 3  20\n",
            "Budget number 4  30\n",
            "Budget number 5  40\n",
            "you are over budget by 50 $\n"
          ]
        }
      ]
    }
  ]
}