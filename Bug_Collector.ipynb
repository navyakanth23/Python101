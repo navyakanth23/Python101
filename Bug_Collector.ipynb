{
  "nbformat": 4,
  "nbformat_minor": 0,
  "metadata": {
    "colab": {
      "provenance": [],
      "authorship_tag": "ABX9TyOCVPUIgZ5E8D8cxj5PC5EI",
      "include_colab_link": true
    },
    "kernelspec": {
      "name": "python3",
      "display_name": "Python 3"
    },
    "language_info": {
      "name": "python"
    }
  },
  "cells": [
    {
      "cell_type": "markdown",
      "metadata": {
        "id": "view-in-github",
        "colab_type": "text"
      },
      "source": [
        "<a href=\"https://colab.research.google.com/github/navyakanth23/Python101/blob/main/Bug_Collector.ipynb\" target=\"_parent\"><img src=\"https://colab.research.google.com/assets/colab-badge.svg\" alt=\"Open In Colab\"/></a>"
      ]
    },
    {
      "cell_type": "code",
      "execution_count": null,
      "metadata": {
        "id": "6xCuQYigYqQU"
      },
      "outputs": [],
      "source": [
        "day_count = 1\n",
        "total_bugs = 0\n",
        "while (day_count <=5):\n",
        "   bug_count = input(\"Enter the bugs you collected on day\"+ str(day_count)+\":\")\n",
        "   bug_count = int(bug_count)\n",
        "   total_bugs = total_bugs + bug_count\n",
        "   day_count = day_count + 1\n",
        "print(\"Total number of bugs you collected:\" , total_bugs)"
      ]
    }
  ]
}